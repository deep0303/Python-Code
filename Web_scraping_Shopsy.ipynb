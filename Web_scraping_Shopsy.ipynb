{
 "cells": [
  {
   "cell_type": "code",
   "execution_count": 12,
   "metadata": {},
   "outputs": [],
   "source": [
    "import requests\n",
    "from bs4 import BeautifulSoup\n",
    "url=requests.get(\"https://www.shopsy.in/womens-clothing-online\")\n",
    "soup=BeautifulSoup(url.text,'lxml')\n",
    "Description=[]\n",
    "des=soup.find_all(\"div\",class_=\"css-146c3p1 r-dnmrzs r-1udh08x r-1udbk01 r-3s2u2q r-1iln25a\")\n",
    "for i in des:\n",
    "    Description.append(i.text)\n"
   ]
  },
  {
   "cell_type": "code",
   "execution_count": 13,
   "metadata": {},
   "outputs": [],
   "source": [
    "price=[]\n",
    "prices=soup.find_all(\"div\",class_=\"css-146c3p1 r-cqee49 r-1vgyyaa r-ubezar r-1rsjblm\")\n",
    "for i in prices:\n",
    "    price.append(i.text)\n",
    "#print(price)"
   ]
  },
  {
   "cell_type": "code",
   "execution_count": 14,
   "metadata": {},
   "outputs": [],
   "source": [
    "rating=[]\n",
    "ratings=soup.find_all(\"div\",class_=\"css-146c3p1 r-dnmrzs r-1udh08x r-1udbk01 r-3s2u2q r-1iln25a r-1h7g6bg r-1et8rh5 r-1enofrn r-1f6r7vd r-l4nmg1 r-1kihuf0 r-9iso6\")\n",
    "for i in ratings:\n",
    "    rating.append(i.text)\n",
    "#print(rating)\n",
    "while len(rating) < 40:\n",
    "    rating.append(\"n/a\")\n"
   ]
  },
  {
   "cell_type": "code",
   "execution_count": 15,
   "metadata": {},
   "outputs": [],
   "source": [
    "discount=[]\n",
    "discounts=soup.find_all(\"div\",class_=\"css-146c3p1 r-183gjk9 r-1vgyyaa r-1enofrn r-1rsjblm r-11wrixw\")\n",
    "for i in discounts:\n",
    "    discount.append(i.text)\n",
    "#print(discount)  "
   ]
  },
  {
   "cell_type": "code",
   "execution_count": 16,
   "metadata": {},
   "outputs": [
    {
     "name": "stdout",
     "output_type": "stream",
     "text": [
      "['Only few left', 'Only few left', 'Only few left', 'Only few left', 'Only few left', 'Only few left', 'Only few left', 'Lowest Price in 30 days', 'Lowest price since launch', 'Only few left', 'Only few left', 'Only few left', 'Only few left', 'Lowest Price in 30 days', 'Only few left', 'Only few left', 'Only few left', 'Lowest price since launch', 'Only few left', 'Only few left', 'Lowest price since launch', 'Only few left', 'Only few left', 'Only few left', 'Only few left', 'Only few left', 'Only few left', 'Only few left', 'Only few left', 'n/a', 'n/a', 'n/a', 'n/a', 'n/a', 'n/a', 'n/a', 'n/a', 'n/a', 'n/a', 'n/a']\n"
     ]
    }
   ],
   "source": [
    "availabilty=[]\n",
    "avilibe=soup.find_all(\"div\",class_=\"css-175oi2r r-18u37iz r-1d09ksm r-1w6e6rj r-kc8jnq\")\n",
    "for i in avilibe:\n",
    "    availabilty.append(i.text)\n",
    "while len(availabilty) < 40:\n",
    "    availabilty.append(\"n/a\")\n",
    "print(availabilty)"
   ]
  },
  {
   "cell_type": "code",
   "execution_count": 17,
   "metadata": {},
   "outputs": [
    {
     "name": "stdout",
     "output_type": "stream",
     "text": [
      "['1,000', '1,249', '999', '699', '399', '999', '999', '999', '999', '699', '999', '999', '599', '1,599', '1,599', '899', '999', '599', '899', '1,599', '999', '1,599', '1,599', '1,599', '1,998', '999', '799', '599', '1,499', '399', '599', '799', '2,499', '699', '899', '999', '799', '1,299', '1,599', '1,500']\n"
     ]
    }
   ],
   "source": [
    "actual_price=[]\n",
    "discounts=soup.find_all(\"div\",class_=\"css-146c3p1 r-1h7g6bg r-1vgyyaa r-1enofrn r-1rsjblm r-142tt33 r-11wrixw\")\n",
    "for i in discounts:\n",
    "    actual_price.append(i.text)\n",
    "print(actual_price)"
   ]
  },
  {
   "cell_type": "code",
   "execution_count": 21,
   "metadata": {},
   "outputs": [],
   "source": [
    "import pandas as pd\n",
    "df=pd.DataFrame({\"Description\":Description,\"Actual_Price\":actual_price,\"Discount\":discount,\"Discount_price\":price,\"Rating\":rating,\"Availabilty\":availabilty})"
   ]
  },
  {
   "cell_type": "code",
   "execution_count": 28,
   "metadata": {},
   "outputs": [],
   "source": [
    "df.to_csv(\"ShopsyData.csv\", index=False)"
   ]
  },
  {
   "cell_type": "code",
   "execution_count": null,
   "metadata": {},
   "outputs": [],
   "source": [
    "df.to_csv(\"Desktop/ShopsyData.csv\")"
   ]
  }
 ],
 "metadata": {
  "kernelspec": {
   "display_name": "Python 3",
   "language": "python",
   "name": "python3"
  },
  "language_info": {
   "codemirror_mode": {
    "name": "ipython",
    "version": 3
   },
   "file_extension": ".py",
   "mimetype": "text/x-python",
   "name": "python",
   "nbconvert_exporter": "python",
   "pygments_lexer": "ipython3",
   "version": "3.12.0"
  }
 },
 "nbformat": 4,
 "nbformat_minor": 2
}
