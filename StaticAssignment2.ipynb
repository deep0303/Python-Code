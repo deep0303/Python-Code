{
 "cells": [
  {
   "cell_type": "code",
   "execution_count": 2,
   "metadata": {},
   "outputs": [],
   "source": [
    "import numpy as np\n",
    "import pandas as pd\n",
    "import scipy.stats as st\n",
    "import math as m\n",
    "import statsmodels.stats.api as sm"
   ]
  },
  {
   "cell_type": "markdown",
   "metadata": {},
   "source": [
    "# Probability Calculation:\n",
    "- An insurance company has the following data on the number of claims made per month: [5, 8, 7, 6, 9, 10, 4, 6, 7, 8]. Calculate the probability of having more than 7 claims in a month.\n"
   ]
  },
  {
   "cell_type": "code",
   "execution_count": null,
   "metadata": {},
   "outputs": [],
   "source": []
  },
  {
   "cell_type": "markdown",
   "metadata": {},
   "source": [
    "# Discrete Random Variable Distribution:\n",
    "- A die is rolled 60 times with the following outcomes: [10, 12, 8, 10, 12, 8]. Calculate the frequency and probability for each outcome. What is the expected value of a single roll?\n"
   ]
  },
  {
   "cell_type": "code",
   "execution_count": null,
   "metadata": {},
   "outputs": [],
   "source": []
  },
  {
   "cell_type": "markdown",
   "metadata": {},
   "source": [
    "# Continuous Random Variable Distribution:\n",
    "- Given the data on the amount of rainfall (in mm) over 20 days: [3.2, 4.1, 2.8, 3.6, 3.3, 4.0, 2.9, 3.5, 3.1, 4.2, 2.7, 3.4, 3.0, 3.9, 2.6, 3.7, 3.2, 4.1, 2.8, 3.6), calculate the mean and standard deviation. Plot the histogram and fit a norma distribution to this data.\n"
   ]
  },
  {
   "cell_type": "code",
   "execution_count": null,
   "metadata": {},
   "outputs": [],
   "source": []
  },
  {
   "cell_type": "markdown",
   "metadata": {},
   "source": [
    "# Z-Score Calculation:\n",
    "- Given a normal distribution with a mean of 100 and a standard deviation of 15, calculate the Z-score for a value of 130. Interpret the result.\n"
   ]
  },
  {
   "cell_type": "code",
   "execution_count": null,
   "metadata": {},
   "outputs": [],
   "source": []
  },
  {
   "cell_type": "markdown",
   "metadata": {},
   "source": [
    "* Given a normally distributed dataset representing the claim amounts with a mean of $10,000 and a standard deviation of $2,000, calculate the Z-score for a claim amount of $12,000. Then, determine the probability that a randomly selected claim will exceed $12,000.\n"
   ]
  },
  {
   "cell_type": "code",
   "execution_count": null,
   "metadata": {},
   "outputs": [],
   "source": []
  },
  {
   "cell_type": "markdown",
   "metadata": {},
   "source": [
    "# Application of 68-95-99.7 Rule:\n",
    "- * In a normally distributed dataset with a mean of 75 and a standard deviation of 10, calculate the range of values that fall within one, two, and three standard deviations from the mean. How much data falls within these ranges ."
   ]
  },
  {
   "cell_type": "code",
   "execution_count": null,
   "metadata": {},
   "outputs": [],
   "source": []
  },
  {
   "cell_type": "markdown",
   "metadata": {},
   "source": [
    "In a study of the heights of a certain plant species, the heights are normally distributed with a mean of 60 cm and a standard deviation of 5 cm. Using the 68-95-99.7 rule, determine the range of heights that fall within one, two, and three standard deviations from the mean. Then, calculate the probability that a randomly selected plant will have a height between 55 cm and 65 cm."
   ]
  },
  {
   "cell_type": "code",
   "execution_count": null,
   "metadata": {},
   "outputs": [],
   "source": []
  },
  {
   "cell_type": "markdown",
   "metadata": {},
   "source": [
    "# Probability Density Function:\n",
    "- For a normal distribution with a mean of 50 and a standard deviation of 5, calculate the value of the probability density function (PDF) at x = 55. Standard Normal Distribution:\n"
   ]
  },
  {
   "cell_type": "code",
   "execution_count": null,
   "metadata": {},
   "outputs": [],
   "source": []
  },
  {
   "cell_type": "markdown",
   "metadata": {},
   "source": [
    "# Standard Normal Distribution\n",
    "Convert the following data points to Z-scores given a mean of 20 and a standard deviation of 4: [16, 24, 20, 28, 12). Plot these Z-scores on a standard normal distribution curve.\n"
   ]
  },
  {
   "cell_type": "code",
   "execution_count": null,
   "metadata": {},
   "outputs": [],
   "source": []
  },
  {
   "cell_type": "markdown",
   "metadata": {},
   "source": [
    "# Fitting Normal Distribution:\n",
    "Given the data on the amount of rainfall (in mm) over 20 days: (3.2, 4.1, 2.8, 3.6, 3.3, 4.0, 29, 3.5, 3.1, 4.2, 2.7, 3.4, 3.0, 3.9, 26, 3.7, 3.2, 4.1, 2.8, 3.6), calculate the parameters (mean and standard deviation) for the fitted normal distribution. Use these parameters to estimate the probability of rainfall exceeding 4.0 mm on a given day. \n"
   ]
  },
  {
   "cell_type": "code",
   "execution_count": null,
   "metadata": {},
   "outputs": [],
   "source": []
  },
  {
   "cell_type": "markdown",
   "metadata": {},
   "source": [
    "You have the following data on monthly rainfall (in mm) over a year: [110, 105, 120, 95, 130, 115, 100, 125, 110, 105, 130, 1201. Plot the histogram for this data and fit a normal distribution. Calculate the mean and standard deviation of the fitted normal distribution and interpret the results."
   ]
  },
  {
   "cell_type": "code",
   "execution_count": null,
   "metadata": {},
   "outputs": [],
   "source": []
  }
 ],
 "metadata": {
  "kernelspec": {
   "display_name": "Python 3",
   "language": "python",
   "name": "python3"
  },
  "language_info": {
   "codemirror_mode": {
    "name": "ipython",
    "version": 3
   },
   "file_extension": ".py",
   "mimetype": "text/x-python",
   "name": "python",
   "nbconvert_exporter": "python",
   "pygments_lexer": "ipython3",
   "version": "3.12.0"
  }
 },
 "nbformat": 4,
 "nbformat_minor": 2
}
